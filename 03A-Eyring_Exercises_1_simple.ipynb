{
 "cells": [
  {
   "cell_type": "markdown",
   "metadata": {},
   "source": [
    "# Part 3A: A Simple Data Analysis\n",
    "\n",
    "We will use data from the results of Machado et al. introduced on the previous page. I will use just five data points as that is a common number used in the literature (we really should insist on more.) \n",
    "\n",
    "## Its Simple\n",
    "\n",
    "*Python* is not complicated. In this notebook we will become acquainted with how a notebook works and with the architecture of a *Python* program. I have no intention of teaching *Python* here. You can figure out what is happening by looking at the code and reading the comments. You can access the code via Google *Colab* or download this notebook and use it on your own computer with the buttons at the top right of this web page.\n",
    "\n",
    "Lets dive right in..."
   ]
  },
  {
   "cell_type": "markdown",
   "metadata": {},
   "source": [
    "## Load the Toolbox\n",
    "\n",
    "In a *Python* notebook, we can mix code and text. In the code block below are commands to load the libraries and modules we will need for this exercise. There are some special commands that are used to run unix xommands directly in the terminal of *Colab* to install *Python* packages that are not available by default. These can \"commented out\" if you run this notebook on your own computer. You will need to add the \"hashtag\" comment symbol. "
   ]
  },
  {
   "cell_type": "code",
   "execution_count": 294,
   "metadata": {
    "tags": [
     "hide-input"
    ]
   },
   "outputs": [
    {
     "name": "stdout",
     "output_type": "stream",
     "text": [
      "mkdir: plots: File exists\n",
      "Requirement already satisfied: uncertainties in /Users/blink/psi4conda/lib/python3.11/site-packages (3.2.1)\n"
     ]
    }
   ],
   "source": [
    "### Setup environment\n",
    "\n",
    "!mkdir plots\n",
    "!pip install uncertainties              # uncomment to install dependancy\n",
    "\n",
    "import scipy                             # includes tools for data analysis\n",
    "import numpy as np                       # import the tools of NumPy as \"np\"\n",
    "from matplotlib import pyplot as plt     # tools for plotting\n",
    "import matplotlib\n",
    "\n",
    "import uncertainties as un               # for handling uncertain numbers\n",
    "from uncertainties import unumpy as unp  # a replacement for numpy that uses \n",
    "                                         #  uncertainty values\n",
    "\n",
    "#location_data = \"data/\"         ## Use either local folder or github folder. \n",
    "#location_styles = \"styles/\"     ## Use github locations for Colab\n",
    "location_data = \"https://raw.githubusercontent.com/blinkletter/PythonPresentation/main/data/\"\n",
    "location_styles = \"https://raw.githubusercontent.com/blinkletter/PythonPresentation/main/styles/\"\n",
    "\n",
    "size = (4,3)    # size of plots"
   ]
  },
  {
   "cell_type": "markdown",
   "metadata": {},
   "source": [
    "## The Erying Plot\n",
    "\n",
    "The code below will take some data that we typed in and perform a linear least-squares fit. The data and the line fit will be plotted. I am using the minimum amount of coding here to emphasize how simple this can be. More complicated examples that follow in upcoming pages are all based on this foundation.\n",
    "\n",
    "### The Complete Calculation\n",
    "\n",
    "The code below performs a linear fit to the Eyring plot and the results are printed out. "
   ]
  },
  {
   "cell_type": "code",
   "execution_count": 295,
   "metadata": {
    "tags": [
     "hide-input"
    ]
   },
   "outputs": [
    {
     "name": "stdout",
     "output_type": "stream",
     "text": [
      "LinregressResult(slope=-5560.074229125674, intercept=15.365177590523832, rvalue=-0.9970033160626764, pvalue=0.00019683392591187597, stderr=249.0767684307886, intercept_stderr=0.8227078340122718)\n"
     ]
    }
   ],
   "source": [
    "### Experimental data\n",
    "temp = [293, 298, 303, 308, 313]       # list of temperatures\n",
    "k_obs = [7.6, 11.7, 15.2, 21.3, 27.8]  # list of observe rate constants (s^-1)\n",
    "\n",
    "### Convert lists to numpy arrays (enables numpy math tools with these lists)\n",
    "temp = np.array(temp)\n",
    "k_obs = np.array(k_obs)\n",
    "\n",
    "### Calculations\n",
    "x = 1/temp\n",
    "y = np.log(k_obs/temp)\n",
    "\n",
    "### Line fit using linear regression\n",
    "fit = scipy.stats.linregress(x,y)\n",
    "print(fit)                           # fit is a 'object' containing the results"
   ]
  },
  {
   "cell_type": "markdown",
   "metadata": {},
   "source": [
    "### The Report\n",
    "\n",
    "It doesn't matter what you do, you must tell somebody about it. The code below will print out the parameters and statistical information and plot the original data and a line calculated from the fit parameters. The second narrow plot is a plot of the residuals. Always plot the residuals for any curve fit. It may reveal systematic error in your model.\n",
    "\n"
   ]
  },
  {
   "cell_type": "code",
   "execution_count": 296,
   "metadata": {
    "tags": [
     "hide-input"
    ]
   },
   "outputs": [
    {
     "name": "stdout",
     "output_type": "stream",
     "text": [
      "slope = -5560.07+/-249.08\n",
      "int = 15.37+/-0.82\n",
      "rsq = 0.994\n"
     ]
    },
    {
     "data": {
      "image/png": "[encoded data removed]",
      "text/plain": [
       "<Figure size 400x300 with 1 Axes>"
      ]
     },
     "metadata": {},
     "output_type": "display_data"
    },
    {
     "data": {
      "image/png": "[encoded data removed]",
      "text/plain": [
       "<Figure size 400x150 with 1 Axes>"
      ]
     },
     "metadata": {},
     "output_type": "display_data"
    }
   ],
   "source": [
    "### Assign compnents of the fit result to variables\n",
    "slope = fit.slope\n",
    "slope_stderr = fit.stderr \n",
    "intercept = fit.intercept\n",
    "int_stderr = fit.intercept_stderr\n",
    "rsq = fit.rvalue ** 2\n",
    "\n",
    "### print a report using the variables\n",
    "print(f\"slope = {slope:0.2f}+/-{slope_stderr:0.2f}\")  \n",
    "print(f\"int = {intercept:0.2f}+/-{int_stderr:0.2f}\")  \n",
    "print(f\"rsq = {rsq:0.3f}\")\n",
    "best_fit_y = slope * x + intercept   # calculate y-values using fit parameters\n",
    "\n",
    "### Plot data and line-fit\n",
    "plt.rcdefaults()\n",
    "plt.style.use(location_styles + \"tufte.mplstyle\")\n",
    "plt.figure(figsize=size)\n",
    "\n",
    "plt.plot(x,y,\"ko\")                    # plot data with black circle\n",
    "plt.plot(x,best_fit_y,\"k-\")           # plot fit line with black line\n",
    "plt.xticks([0.0032,0.0033,0.0034])    # there were too many x labels\n",
    "plt.ylim(-4.2,-2.0)\n",
    "\n",
    "plt.xlabel(r\"${1/T}$\")\n",
    "plt.ylabel(r\"$\\ln{k/T}$\")\n",
    "plt.savefig(\"plots/3A-00.pdf\")\n",
    "plt.show()                            # show plot (and clear)\n",
    "\n",
    "### Plot the residuals\n",
    "residuals = y - best_fit_y            # difference between data and line-fit\n",
    "plt.figure(figsize=size).set_figheight(1.5)       # set plot height to 1 inch\n",
    "plt.axhline(0, color='lightgray')       # plot a horizontal line\n",
    "plt.plot(x,residuals,\"ko\")\n",
    "plt.xticks([0.0032,0.0033,0.0034])    # there were too many x labels\n",
    "plt.ylim(-.1,.1)\n",
    "plt.xlabel(r\"${1/T}$\")\n",
    "plt.ylabel(r\"residuals\")\n",
    "\n",
    "plt.savefig(\"plots/3A-01.pdf\")\n",
    "plt.show()"
   ]
  },
  {
   "cell_type": "markdown",
   "metadata": {},
   "source": [
    "## Calculating Thermodynamic Parameters\n",
    "\n",
    "We performed the Eyring plot analysis to get $\\Delta H^\\ddagger$ and $\\Delta S^\\ddagger$ for the reaction in the active site of the enzyme. I can easily calculate the $\\Delta H^\\ddagger$ and $\\Delta S^\\ddagger$ from the line fit parameters, but how do I propagate error through the calculation. The line fit algorithm has produced an estimated error expressed as a standard deviation value for both slope and intercept. This error must be correctly translated to the calculated $\\Delta H^\\ddagger$ and $\\Delta S^\\ddagger$ values obtained from the uncertain slope and intercept. There are mathematical rules for doing this.\n",
    "\n",
    "### Uncertain Numbers\n",
    "\n",
    "Rather than review a statistics testbook, let us use a tool that handles error propagation for us. We will use the ```uncertainties``` module. It provides a data structure called *ufloat*, which is a floating point value with the error included. It is an object that retains information on the uncertainty for the value and its relationship to any other uncertain values with which it has interacted. For example, if I multiply the ufloat values $a$ and $b$ together, it will produce a value that combines the errors. If I divide that answer by $b$ I will not get an answer in which the errors have been combined again, but will get the original $a$ back. The ufoat value knew its history with $b$ and correctly handled the situation.\n",
    "\n",
    "The code below will create ufloat values from the parameters and their estimated uncertainties. Then we will use these values to calculate the values of $\\Delta H^\\ddagger$ and $\\Delta S^\\ddagger$ with errors included. You can see that the estimated errors in the thermodynamic parameters are large.\n",
    "\n"
   ]
  },
  {
   "cell_type": "code",
   "execution_count": 297,
   "metadata": {
    "tags": [
     "hide-input"
    ]
   },
   "outputs": [
    {
     "name": "stdout",
     "output_type": "stream",
     "text": [
      "The change in enthalpy is 46+/-2 kJ/mole\n",
      "The change in entropy is -69.80+/-6.84 J/mole.K\n"
     ]
    }
   ],
   "source": [
    "### Create ufloat objects from fit results\n",
    "slope_u = un.ufloat(slope,slope_stderr)\n",
    "intercept_u = un.ufloat(intercept,int_stderr)\n",
    "\n",
    "### calculate thermodynamic parameters\n",
    "R = scipy.constants.R\n",
    "kb = scipy.constants.k\n",
    "h = scipy.constants.h\n",
    "kappa = 1\n",
    "\n",
    "dH = -slope_u * R\n",
    "dS = (intercept_u - np.log(kb/h)) * R\n",
    "\n",
    "print(f\"The change in enthalpy is {dH/1000:0.0f} kJ/mole\")\n",
    "print(f\"The change in entropy is {dS:0.2f} J/mole.K\")"
   ]
  },
  {
   "cell_type": "markdown",
   "metadata": {},
   "source": [
    "## Highly Leveraged\n",
    "\n",
    "We shall now observe that we have set ourselves up for trouble with the way we are using these errors. The error in the slope has a large effect on the value of the intercept. The values of slope and intercept are strongly coupled in this case. However, the ufloat objects that we created for $\\Delta H^\\ddagger$ and $\\Delta S^\\ddagger$ have no connection with each other because we created them seperately from scratch. Consider the example below.\n",
    "\n",
    "### Check the Confidence Interval\n",
    "\n",
    "We have the parameters and the estimated errors. We can back-propagate these uncertain values and calculate the rates at the tempertures in the data. The errors determined in the ufloat object will be the \"$1\\sigma$ confidence interval.\"  This should be the range where 68% of the values determined at that temperature would be found (one standard deviation in a Gaussian distribution.)\n",
    "\n",
    "As you can see, the confidence is awful. Our value is garbage. We have no confidence. Did we make a mistake? Yes we did. "
   ]
  },
  {
   "cell_type": "code",
   "execution_count": 298,
   "metadata": {
    "tags": [
     "hide-input"
    ]
   },
   "outputs": [
    {
     "name": "stdout",
     "output_type": "stream",
     "text": [
      "The confidence interval for k_cat at 303 K is 15.3+/-17.8 s^-1\n"
     ]
    }
   ],
   "source": [
    "### Calculate the rate constant using the parameters and temperature\n",
    "### The uncertainty in the parameters will propagate back to the data point\n",
    "\n",
    "T = 303\n",
    "k_obs_c = kappa*kb/h * T * unp.exp(-dH/(R*T)) * unp.exp(dS/R)\n",
    "print(f\"The confidence interval for k_cat at {T} K is {k_obs_c:0.1f} s^-1\")"
   ]
  },
  {
   "cell_type": "markdown",
   "metadata": {},
   "source": [
    "### Plot the Confidence Interval\n",
    "\n",
    "The uncertain value calculated for $k_{cat}$ is $15.3 \\pm 35.6\\ s^{-1}$ with a $2\\sigma$ confidence (twice the standard deviation will encompass 95.5% of likely outcomes). This is obviously rediculous and represents a nonesense value.\n",
    "\n",
    "The large error seems incongrous with the quality of the data. Below I will plot the confidence range of the data using $2\\sigma$ confidence. Why is the band so wide compared to the scatter of the data? The reason is that we are not using the uncertain values correctly."
   ]
  },
  {
   "cell_type": "code",
   "execution_count": 299,
   "metadata": {
    "tags": [
     "hide-input"
    ]
   },
   "outputs": [
    {
     "name": "stdout",
     "output_type": "stream",
     "text": [
      "slope = -5560.07+/-249.08\n",
      "The intercept is 15.37+/-0.82\n",
      "\n",
      "rsq = 0.994\n"
     ]
    },
    {
     "data": {
      "image/png": "[encoded data removed]",
      "text/plain": [
       "<Figure size 400x300 with 1 Axes>"
      ]
     },
     "metadata": {},
     "output_type": "display_data"
    },
    {
     "name": "stdout",
     "output_type": "stream",
     "text": [
      "The change in enthalpy is 46229.03+/-2070.94 kJ/mole\n",
      "The change in entropy is -69.80+/-6.84 J/mole.K\n",
      "Calculated k at T = 303 K is 15.31+/-17.81 s^-1\n"
     ]
    }
   ],
   "source": [
    "### Experimental data\n",
    "temp = [293, 298, 303, 308, 313]       # list of temperatures\n",
    "k_obs = [7.6, 11.7, 15.2, 21.3, 27.8]  # list of observe rate constants (s^-1)\n",
    "\n",
    "### Convert lists to numpy arrays (enables numpy math tools with these lists)\n",
    "temp = np.array(temp)\n",
    "k_obs = np.array(k_obs)\n",
    "\n",
    "### Calculations\n",
    "x = 1/temp\n",
    "y = np.log(k_obs/temp)\n",
    "\n",
    "### Remove Lever Arm\n",
    "x_ave = np.average(x)      # average 1/T value\n",
    "x_nolever = x      # subtract average 1/T from 1/T values\n",
    "\n",
    "fit = scipy.stats.linregress(x_nolever,y)\n",
    "\n",
    "### REPORT\n",
    "### Assign compnents of the fit result to variables\n",
    "slope = fit.slope\n",
    "slope_stderr = fit.stderr \n",
    "intercept = fit.intercept\n",
    "int_stderr = fit.intercept_stderr\n",
    "rsq = fit.rvalue ** 2\n",
    "\n",
    "### Create new ufloat objects from fit results\n",
    "slope_unc = un.ufloat(slope, slope_stderr)\n",
    "intercept_unc = un.ufloat(intercept, int_stderr)\n",
    "\n",
    "### calculate the true intercept \n",
    "intercept_true = intercept_unc\n",
    "\n",
    "### print a report using the variables\n",
    "print(f\"slope = {slope:0.2f}+/-{slope_stderr:0.2f}\")  \n",
    "# print(f\"int = {intercept:0.2f}+/-{int_stderr:0.2f}\")  \n",
    "print(f\"The intercept is {intercept_true:0.2f}\")\n",
    "print()\n",
    "print(f\"rsq = {rsq:0.3f}\")\n",
    "\n",
    "#### calculate y-values using best fit parameters\n",
    "sigma = 1\n",
    "x_0 = np.linspace(0,np.max(x),100)                \n",
    "\n",
    "\n",
    "best_fit_y = slope * x + intercept     # ufloat.n gives the nominal value\n",
    "best_fit_y_upper = (slope-slope_stderr*sigma) * x + (intercept-int_stderr)     # ufloat.n gives the nominal value\n",
    "best_fit_y_lower = (slope+slope_stderr*sigma) * x + (intercept+int_stderr)     # ufloat.n gives the nominal value\n",
    "\n",
    "\n",
    "### Plot data and line-fit\n",
    "plt.rcdefaults()\n",
    "plt.style.use(location_styles + \"tufte.mplstyle\")\n",
    "plt.figure(figsize=size)\n",
    "\n",
    "plt.plot(x,y,\"ko\")                               # plot data with black circle\n",
    "plt.plot(x,unp.nominal_values(best_fit_y),\"k-\")  # plot fit line with black line\n",
    "\n",
    "### Create Confidence band upper and lower bounds\n",
    "\n",
    "# make filled band\n",
    "plt.fill_between(x, best_fit_y_upper, best_fit_y_lower, \n",
    "                   color=\"lightgray\", alpha=0.4, zorder = 0,\n",
    "                   linewidth = 0, label=\"confidence interval\")\n",
    "\n",
    "#plt.ylim(-4.2,-1.0)\n",
    "\n",
    "\n",
    "plt.xticks([0.0032,0.0033,0.0034])         # there were too many x labels\n",
    "plt.xlabel(r\"${1/T}$\")\n",
    "plt.ylabel(r\"$\\ln{k/T}$\")\n",
    "plt.savefig(\"plots/3A-02.pdf\")\n",
    "plt.show()                                       # show plot (and clear)\n",
    "\n",
    "### calculate thermodynamic parameters\n",
    "R = scipy.constants.R\n",
    "kb = scipy.constants.k\n",
    "h = scipy.constants.h\n",
    "kappa = 1\n",
    "\n",
    "dH = -slope_unc * R\n",
    "dS = (intercept_true - np.log(kb/h)) * R\n",
    "\n",
    "print(f\"The change in enthalpy is {dH:0.2f} kJ/mole\")\n",
    "print(f\"The change in entropy is {dS:0.2f} J/mole.K\")\n",
    "\n",
    "## calculate k from Erying plot parameters.\n",
    "Temp = 303\n",
    "kobs = (kappa * kb / h) * Temp * unp.exp(-dH/(R*Temp)) * unp.exp(dS/R)\n",
    "\n",
    "print(f\"Calculated k at T = {Temp} K is {kobs:0.2f} s^-1\")\n"
   ]
  },
  {
   "cell_type": "markdown",
   "metadata": {},
   "source": [
    "### The Lever Arm\n",
    "\n",
    "Let us plot the entire $x$-axis from zero (where the $y$-intercept is) to our data. You can see that we are a looong distance from the $y$-axis and any small errors in slope will lead to large error in intercept. "
   ]
  },
  {
   "cell_type": "code",
   "execution_count": 300,
   "metadata": {
    "tags": [
     "hide-input"
    ]
   },
   "outputs": [
    {
     "data": {
      "image/png": "[encoded data removed]",
      "text/plain": [
       "<Figure size 400x300 with 1 Axes>"
      ]
     },
     "metadata": {},
     "output_type": "display_data"
    }
   ],
   "source": [
    "### Plot data and line-fit (cut and pasted from above)\n",
    "x_0 = np.insert(x,len(x),0)            # insert zero in alst position of x array\n",
    "best_fit_y_0 = slope * x_0 + intercept # calculate fit starting at zero\n",
    "\n",
    "plt.rcdefaults()\n",
    "plt.style.use(location_styles + \"tufte.mplstyle\")\n",
    "plt.figure(figsize=size)\n",
    "\n",
    "plt.plot(x,y,\"ko\")                     # plot data with black circle\n",
    "plt.plot(x_0,best_fit_y_0,\"k-\")        # plot fit line starting at zero\n",
    "plt.xlabel(r\"${1/T}-0.0030$\")\n",
    "plt.ylabel(r\"$\\ln{k/T}$\")\n",
    "plt.savefig(\"plots/3A-03.pdf\")\n",
    "plt.show()                                       \n"
   ]
  },
  {
   "cell_type": "markdown",
   "metadata": {},
   "source": [
    "### The Lever Arm with Error\n",
    "\n",
    "Below is the lever arm plot with the confidence interval calculated from the parameters and their standard deviations. Does this look correct?\n",
    "\n",
    "We can see that the error band uses the error for the intercept ($15.37 \\pm 0.82$) and then from the two outer values for intercept ($16.19$ and $14.55$) we track away at the limits of the slope ($-5560.07 \\pm 249.08$). But the data that defined these values should be where the divergence starts, not some distant target at $x=0$.\n",
    "\n"
   ]
  },
  {
   "cell_type": "code",
   "execution_count": 301,
   "metadata": {
    "tags": [
     "hide-input"
    ]
   },
   "outputs": [
    {
     "name": "stdout",
     "output_type": "stream",
     "text": [
      "slope = -5560.07+/-249.08\n",
      "The true intercept is 15.37+/-0.82\n",
      "\n",
      "rsq = 0.994\n"
     ]
    },
    {
     "data": {
      "image/png": "[encoded data removed]",
      "text/plain": [
       "<Figure size 400x300 with 1 Axes>"
      ]
     },
     "metadata": {},
     "output_type": "display_data"
    },
    {
     "name": "stdout",
     "output_type": "stream",
     "text": [
      "The change in enthalpy is 46229.03+/-2070.94 kJ/mole\n",
      "The change in entropy is -69.80+/-6.84 J/mole.K\n",
      "Calculated k at T = 303 K is 15.31+/-17.81 s^-1\n"
     ]
    }
   ],
   "source": [
    "### Experimental data\n",
    "temp = [293, 298, 303, 308, 313]       # list of temperatures\n",
    "k_obs = [7.6, 11.7, 15.2, 21.3, 27.8]  # list of observe rate constants (s^-1)\n",
    "\n",
    "### Convert lists to numpy arrays (enables numpy math tools with these lists)\n",
    "temp = np.array(temp)\n",
    "k_obs = np.array(k_obs)\n",
    "\n",
    "### Calculations\n",
    "x = 1/temp\n",
    "y = np.log(k_obs/temp)\n",
    "\n",
    "### Remove Lever Arm\n",
    "x_ave = np.average(x)      # average 1/T value\n",
    "x_nolever = x      # subtract average 1/T from 1/T values\n",
    "\n",
    "fit = scipy.stats.linregress(x_nolever,y)\n",
    "\n",
    "### REPORT\n",
    "### Assign compnents of the fit result to variables\n",
    "slope = fit.slope\n",
    "slope_stderr = fit.stderr \n",
    "intercept = fit.intercept\n",
    "int_stderr = fit.intercept_stderr\n",
    "rsq = fit.rvalue ** 2\n",
    "\n",
    "### Create new ufloat objects from fit results\n",
    "slope_unc = un.ufloat(slope, slope_stderr)\n",
    "intercept_unc = un.ufloat(intercept, int_stderr)\n",
    "\n",
    "### calculate the true intercept \n",
    "intercept_true = intercept_unc\n",
    "\n",
    "### print a report using the variables\n",
    "print(f\"slope = {slope:0.2f}+/-{slope_stderr:0.2f}\")  \n",
    "# print(f\"int = {intercept:0.2f}+/-{int_stderr:0.2f}\")  \n",
    "print(f\"The true intercept is {intercept_true:0.2f}\")\n",
    "print()\n",
    "print(f\"rsq = {rsq:0.3f}\")\n",
    "\n",
    "#### calculate y-values using best fit parameters\n",
    "sigma = 1\n",
    "x_0 = np.linspace(0,np.max(x),100)                \n",
    "\n",
    "\n",
    "best_fit_y = slope * x_0 + intercept     # ufloat.n gives the nominal value\n",
    "best_fit_y_upper = (slope-slope_stderr*sigma) * x_0 + (intercept-int_stderr)     # ufloat.n gives the nominal value\n",
    "best_fit_y_lower = (slope+slope_stderr*sigma) * x_0 + (intercept+int_stderr)     # ufloat.n gives the nominal value\n",
    "\n",
    "\n",
    "### Plot data and line-fit\n",
    "plt.rcdefaults()\n",
    "plt.style.use(location_styles + \"tufte.mplstyle\")\n",
    "plt.figure(figsize=size)\n",
    "\n",
    "plt.plot(x,y,\"ko\")                               # plot data with black circle\n",
    "plt.plot(x_0,best_fit_y,\"k-\")  # plot fit line with black line\n",
    "\n",
    "### Create Confidence band upper and lower bounds\n",
    "\n",
    "# make filled band\n",
    "plt.fill_between(x_0, best_fit_y_upper, best_fit_y_lower, \n",
    "                   color=\"lightgray\", alpha=0.4, zorder = 0,\n",
    "                   linewidth = 0, label=\"confidence interval\")\n",
    "\n",
    "\n",
    "\n",
    "#plt.xticks([0.0032,0.0033,0.0034])         # there were too many x labels\n",
    "plt.xlabel(r\"${1/T}$\")\n",
    "plt.ylabel(r\"$\\ln{k/T}$\")\n",
    "plt.savefig(\"plots/3A-04.pdf\")\n",
    "plt.show()                                       # show plot (and clear)\n",
    "\n",
    "\n",
    "### calculate thermodynamic parameters\n",
    "R = scipy.constants.R\n",
    "kb = scipy.constants.k\n",
    "h = scipy.constants.h\n",
    "kappa = 1\n",
    "\n",
    "dH = -slope_unc * R\n",
    "dS = (intercept_true - np.log(kb/h)) * R\n",
    "\n",
    "print(f\"The change in enthalpy is {dH:0.2f} kJ/mole\")\n",
    "print(f\"The change in entropy is {dS:0.2f} J/mole.K\")\n",
    "\n",
    "## calculate k from Erying plot parameters.\n",
    "Temp = 303\n",
    "kobs = (kappa * kb / h) * Temp * unp.exp(-dH/(R*Temp)) * unp.exp(dS/R)\n",
    "\n",
    "print(f\"Calculated k at T = {Temp} K is {kobs:0.2f} s^-1\")\n"
   ]
  },
  {
   "cell_type": "markdown",
   "metadata": {},
   "source": [
    "### Removing the Lever\n",
    "\n",
    "This problem is easily solved. We need the intercept to be very close to the data so there is no long lever arm. Let is simply subtract the average value for the x-axis data from the data set. Then the intercept will be in the middle of the data and experience the minimum coupling. We can calculate the value of the y-axis at the far flung end of the former lever arm and see that the errors for $\\Delta H^\\ddagger$ and $\\Delta S^\\ddagger$ are exactly the same as before. But now the ufloat object for the intercept knows that it has been coupled with the slope because we used the slope value in its calculation (see code below). \n",
    "\n",
    "With the coupling (covariance) established, we can repeat the confidence interval calculation and we see a much more reasonable value."
   ]
  },
  {
   "cell_type": "code",
   "execution_count": 302,
   "metadata": {
    "tags": [
     "hide-input"
    ]
   },
   "outputs": [
    {
     "name": "stdout",
     "output_type": "stream",
     "text": [
      "x-offset is 0.00330\n",
      "slope = -5560.07+/-249.08\n",
      "int = -2.99+/-0.02\n",
      "rsq = 0.994\n"
     ]
    },
    {
     "data": {
      "image/png": "[encoded data removed]",
      "text/plain": [
       "<Figure size 400x300 with 1 Axes>"
      ]
     },
     "metadata": {},
     "output_type": "display_data"
    }
   ],
   "source": [
    "### Remove Lever Arm\n",
    "x_ave = np.average(x)      # average 1/T value\n",
    "x_nolever = x - x_ave      # subtract average 1/T from 1/T values\n",
    "\n",
    "print(f\"x-offset is {x_ave:0.5f}\")\n",
    "fit = scipy.stats.linregress(x_nolever,y)\n",
    "\n",
    "### REPORT\n",
    "### Assign compnents of the fit result to variables\n",
    "slope = fit.slope\n",
    "slope_stderr = fit.stderr \n",
    "intercept = fit.intercept\n",
    "int_stderr = fit.intercept_stderr\n",
    "rsq = fit.rvalue ** 2\n",
    "\n",
    "### print a report using the variables\n",
    "print(f\"slope = {slope:0.2f}+/-{slope_stderr:0.2f}\")  # Using \"f-string\" \n",
    "print(f\"int = {intercept:0.2f}+/-{int_stderr:0.2f}\")  \n",
    "print(f\"rsq = {rsq:0.3f}\")\n",
    "best_fit_y = slope * x_nolever + intercept  # calc y-values using parameters\n",
    "\n",
    "### Plot data and line-fit\n",
    "plt.rcdefaults()\n",
    "plt.style.use(location_styles + \"tufte.mplstyle\")\n",
    "plt.figure(figsize=size)\n",
    "\n",
    "plt.plot(x_nolever,y,\"ko\")              # plot data with black circle\n",
    "plt.plot(x_nolever,best_fit_y,\"k-\")     # plot fit line with black line\n",
    "plt.xticks([-0.00010,0,0.0001])         # there were too many x labels\n",
    "plt.xlabel(r\"${1/T}-0.0033$\")\n",
    "plt.ylabel(r\"$\\ln{k/T}$\")\n",
    "plt.savefig(\"plots/3A-05.pdf\")\n",
    "plt.show()                              # show plot (and clear)"
   ]
  },
  {
   "cell_type": "markdown",
   "metadata": {},
   "source": [
    "### Calculating Thermodynamic Parameters Again\n",
    "\n",
    "We have a value for intercept and its error is very small as it is in the middle of the data set and largely unaffected by any variations in slope. We will now calculate the \"true intercept\" at $1/T = 0$. In the code below you can see that we are multiplying the slope by the length of the lever arm (the value we subtracted from the $x$-axis) and adding that to the intercept. This will give us the true intercept at the end of the lever arm. The new ufloat object carries within it the knowledge that it was created through the combination of the slope and the intercept. The true intercept value is strongly coupled to slope (we multiplied by a long lever arm to get the value) but the ufloat object now includes this fact within it, somehow.\n",
    "\n",
    "The values of $\\Delta H^\\ddagger$ and $\\Delta S^\\ddagger$ are derived from the strongly coupled slope and true intercept values. As a result, they are also strongly coupled but the ufloat objects will continue to track that covariance within them. When we use these values to calculate the $k_{cat}$ value we see that the estimated error is correct."
   ]
  },
  {
   "cell_type": "code",
   "execution_count": 303,
   "metadata": {
    "tags": [
     "hide-input"
    ]
   },
   "outputs": [
    {
     "name": "stdout",
     "output_type": "stream",
     "text": [
      "The true intercept is 15.37+/-0.82\n",
      "\n",
      "The change in enthalpy is 46229.03+/-2070.94 kJ/mole\n",
      "The change in entropy is -69.80+/-6.84 J/mole.K\n",
      "\n",
      "Calculated k at T = 303 K is 15.31+/-0.29 s^-1\n"
     ]
    }
   ],
   "source": [
    "### Create new ufloat objects from fit results\n",
    "slope_unc = un.ufloat(slope, slope_stderr)\n",
    "intercept_unc = un.ufloat(intercept, int_stderr)\n",
    "\n",
    "### calculate the true intercept \n",
    "intercept_true = intercept_unc - slope_unc * x_ave\n",
    "print(f\"The true intercept is {intercept_true:0.2f}\")\n",
    "print()\n",
    "\n",
    "### calculate thermodynamic parameters\n",
    "R = scipy.constants.R\n",
    "kb = scipy.constants.k\n",
    "h = scipy.constants.h\n",
    "kappa = 1\n",
    "\n",
    "dH = -slope_unc * R\n",
    "dS = (intercept_true - np.log(kb/h)) * R\n",
    "\n",
    "print(f\"The change in enthalpy is {dH:0.2f} kJ/mole\")\n",
    "print(f\"The change in entropy is {dS:0.2f} J/mole.K\")\n",
    "\n",
    "## calculate k from Erying plot parameters.\n",
    "Temp = 303\n",
    "kobs = (kappa * kb / h) * Temp * unp.exp(-dH/(R*Temp)) * unp.exp(dS/R)\n",
    "\n",
    "print()\n",
    "print(f\"Calculated k at T = {Temp} K is {kobs:0.2f} s^-1\")\n"
   ]
  },
  {
   "cell_type": "markdown",
   "metadata": {},
   "source": [
    "## Plot the Confidence Band\n",
    "\n",
    "Now that we have values for $\\Delta H^\\ddagger$ and $\\Delta S^\\ddagger$ that are represented by coupled ufloat objects, we can use them to calculate the confidence interval at every $x$-value and plot the fit and the \"confidence band.\" The usual practice is to plot the 95% confidence interval, which is $2\\sigma$ or twice the standard deviation.\n",
    "\n",
    "In the code below you will see ways to separate the nominal value and the error values out of a ufloat object. The ```matplotlib.pyplot``` library cannot use ufloat values. The code below is also \"complete.\" I will be repeating many elements that have already been assigned above so that this block of code can be cut and pasted in its entirety and used in your own work."
   ]
  },
  {
   "cell_type": "markdown",
   "metadata": {},
   "source": [
    "### Band Calculated from Uncertain $\\Delta H^\\ddagger$ and $\\Delta S^\\ddagger$ \n",
    "\n",
    "We can calculate the confidence band for the Erying plot by using the uncertain values for $\\Delta H^\\ddagger$ and $\\Delta S^\\ddagger$ to get an uncertain value for $k_{cat}$. We then calculate the y-axis of $\\ln\\left( k_{cat}/T\\right)$ as an uncertain number. Add and subtract the $\\pm$ error to get the confidence band."
   ]
  },
  {
   "cell_type": "code",
   "execution_count": 304,
   "metadata": {
    "tags": [
     "hide-input"
    ]
   },
   "outputs": [
    {
     "name": "stdout",
     "output_type": "stream",
     "text": [
      "slope = -5560.07+/-249.08\n",
      "The true intercept is 15.37+/-0.82\n",
      "\n",
      "rsq = 0.994\n"
     ]
    },
    {
     "data": {
      "image/png": "[encoded data removed]",
      "text/plain": [
       "<Figure size 400x300 with 1 Axes>"
      ]
     },
     "metadata": {},
     "output_type": "display_data"
    },
    {
     "data": {
      "image/png": "[encoded data removed]",
      "text/plain": [
       "<Figure size 400x150 with 1 Axes>"
      ]
     },
     "metadata": {},
     "output_type": "display_data"
    },
    {
     "name": "stdout",
     "output_type": "stream",
     "text": [
      "The change in enthalpy is 46229.03+/-2070.94 kJ/mole\n",
      "The change in entropy is -69.80+/-6.84 J/mole.K\n",
      "15.31+/-0.29\n",
      "Calculated k at T = 303 K is 15.31+/-0.29 s^-1\n"
     ]
    }
   ],
   "source": [
    "### Experimental data\n",
    "temp = [293, 298, 303, 308, 313]       # list of temperatures\n",
    "k_obs = [7.6, 11.7, 15.2, 21.3, 27.8]  # list of observe rate constants (s^-1)\n",
    "\n",
    "### Convert lists to numpy arrays (enables numpy math tools with these lists)\n",
    "temp = np.array(temp)\n",
    "k_obs = np.array(k_obs)\n",
    "\n",
    "### Calculations\n",
    "x = 1/temp\n",
    "y = np.log(k_obs/temp)\n",
    "\n",
    "### Remove Lever Arm\n",
    "x_ave = np.average(x)      # average 1/T value\n",
    "x_nolever = x - x_ave      # subtract average 1/T from 1/T values\n",
    "\n",
    "fit = scipy.stats.linregress(x_nolever,y)\n",
    "\n",
    "### REPORT\n",
    "### Assign compnents of the fit result to variables\n",
    "slope = fit.slope\n",
    "slope_stderr = fit.stderr \n",
    "intercept = fit.intercept\n",
    "int_stderr = fit.intercept_stderr\n",
    "rsq = fit.rvalue ** 2\n",
    "\n",
    "### Create new ufloat objects from fit results\n",
    "slope_unc = un.ufloat(slope, slope_stderr)\n",
    "intercept_unc = un.ufloat(intercept, int_stderr)\n",
    "\n",
    "### calculate the true intercept \n",
    "intercept_true = intercept_unc - slope_unc * x_ave\n",
    "\n",
    "### print a report using the variables\n",
    "print(f\"slope = {slope:0.2f}+/-{slope_stderr:0.2f}\")  \n",
    "# print(f\"int = {intercept:0.2f}+/-{int_stderr:0.2f}\")  \n",
    "print(f\"The true intercept is {intercept_true:0.2f}\")\n",
    "print()\n",
    "print(f\"rsq = {rsq:0.3f}\")\n",
    "\n",
    "#### calculate y-values using best fit parameters\n",
    "best_fit_y = slope * x + intercept_true     # ufloat.n gives the nominal value\n",
    "\n",
    "\n",
    "### Plot data and line-fit\n",
    "plt.rcdefaults()\n",
    "plt.style.use(location_styles + \"tufte.mplstyle\")\n",
    "plt.figure(figsize=size)\n",
    "\n",
    "plt.plot(x,y,\"ko\")                               # plot data with black circle\n",
    "plt.plot(x,unp.nominal_values(best_fit_y),\"k-\")  # plot fit line with black line\n",
    "\n",
    "### Create Confidence band upper and lower bounds\n",
    "sigma = 2\n",
    "\n",
    "# create array of uncertain values for kobs\n",
    "kobs = (kappa * kb / h) * temp * unp.exp(-dH/(R*temp)) * unp.exp(dS/R)\n",
    "\n",
    "# upper and lower bounds of uncertain kobs as float values\n",
    "k_up = unp.nominal_values(kobs) + unp.std_devs(kobs) * sigma\n",
    "k_dn = unp.nominal_values(kobs) - unp.std_devs(kobs) * sigma\n",
    "\n",
    "# y axis is ln(k/T)\n",
    "ln_k_up_T = np.log(k_up/temp)\n",
    "ln_k_dn_T = np.log(k_dn/temp)\n",
    "\n",
    "# make filled band\n",
    "plt.fill_between(x, ln_k_up_T, ln_k_dn_T, \n",
    "                   color=\"lightgray\", alpha=0.4, zorder = 0,\n",
    "                   linewidth = 0, label=\"confidence interval\")\n",
    "\n",
    "\n",
    "\n",
    "plt.xticks([0.0032,0.0033,0.0034])         # there were too many x labels\n",
    "plt.xlabel(r\"${1/T}$\")\n",
    "plt.ylabel(r\"$\\ln{k/T}$\")\n",
    "plt.savefig(\"plots/3A-06.pdf\")\n",
    "plt.show()                                       # show plot (and clear)\n",
    "\n",
    "### Plot the residuals\n",
    "\n",
    "# difference between data and line-fit\n",
    "residuals = y - unp.nominal_values(best_fit_y)   \n",
    "plt.figure(figsize=size).set_figheight(1.5)        # set plot height to 1 inch\n",
    "plt.axhline(0, color='lightgray')                  # plot a horizontal line\n",
    "plt.plot(x,residuals,\"ko\")\n",
    "plt.xticks([0.0032,0.0033,0.0034])         # there were too many x labels\n",
    "plt.ylim(-.1,.1)\n",
    "\n",
    "plt.xlabel(r\"${1/T}$\")\n",
    "plt.ylabel(r\"residuals\")\n",
    "plt.savefig(\"plots/3A-07.pdf\")\n",
    "plt.show()\n",
    "\n",
    "\n",
    "### calculate thermodynamic parameters\n",
    "R = scipy.constants.R\n",
    "kb = scipy.constants.k\n",
    "h = scipy.constants.h\n",
    "kappa = 1\n",
    "\n",
    "dH = -slope_unc * R\n",
    "dS = (intercept_true - np.log(kb/h)) * R\n",
    "\n",
    "print(f\"The change in enthalpy is {dH:0.2f} kJ/mole\")\n",
    "print(f\"The change in entropy is {dS:0.2f} J/mole.K\")\n",
    "\n",
    "## calculate k from Erying plot parameters.\n",
    "Temp = 303\n",
    "kobs = (kappa * kb / h) * Temp * unp.exp(-dH/(R*Temp)) * unp.exp(dS/R)\n",
    "\n",
    "print(kobs)\n",
    "print(f\"Calculated k at T = {Temp} K is {kobs:0.2f} s^-1\")\n"
   ]
  },
  {
   "cell_type": "markdown",
   "metadata": {},
   "source": [
    "### Band Calculated from Uncertain Slope and Intercept\n",
    "\n",
    "Note that it is identical to the above case where we used the uncertain ufloat values of $\\Delta H^\\ddagger$ and $\\Delta S^\\ddagger$. this is because the ufloat objects correctly handled error propagation back and forth through the math. They should be identical and indeed they are. The code is below."
   ]
  },
  {
   "cell_type": "code",
   "execution_count": 309,
   "metadata": {
    "tags": [
     "hide-input"
    ]
   },
   "outputs": [
    {
     "name": "stdout",
     "output_type": "stream",
     "text": [
      "slope = -5560.07+/-249.08\n",
      "The true intercept is 15.37+/-0.82\n",
      "\n",
      "rsq = 0.994\n"
     ]
    },
    {
     "data": {
      "image/png": "[encoded data removed]",
      "text/plain": [
       "<Figure size 400x300 with 1 Axes>"
      ]
     },
     "metadata": {},
     "output_type": "display_data"
    },
    {
     "data": {
      "image/png": "[encoded data removed]",
      "text/plain": [
       "<Figure size 400x150 with 1 Axes>"
      ]
     },
     "metadata": {},
     "output_type": "display_data"
    },
    {
     "name": "stdout",
     "output_type": "stream",
     "text": [
      "[0.00341297 0.0033557  0.00330033 0.00324675 0.00319489]\n"
     ]
    }
   ],
   "source": [
    "slope_unc = un.ufloat(slope, slope_stderr)\n",
    "intercept_unc = un.ufloat(intercept, int_stderr)\n",
    "\n",
    "### calculate the true intercept \n",
    "intercept_true = intercept_unc - slope_unc * x_ave\n",
    "\n",
    "### print a report using the variables\n",
    "print(f\"slope = {slope:0.2f}+/-{slope_stderr:0.2f}\")  \n",
    "# print(f\"int = {intercept:0.2f}+/-{int_stderr:0.2f}\")  \n",
    "print(f\"The true intercept is {intercept_true:0.2f}\")\n",
    "print()\n",
    "print(f\"rsq = {rsq:0.3f}\")\n",
    "\n",
    "#### calculate y-values using best fit parameters\n",
    "best_fit_y = slope_unc * x + intercept_true  # ufloat.n gives the nominal value\n",
    "\n",
    "\n",
    "### Plot data and line-fit\n",
    "plt.rcdefaults()\n",
    "plt.style.use(location_styles + \"tufte.mplstyle\")\n",
    "plt.figure(figsize=size)\n",
    "\n",
    "plt.plot(x,y,\"ko\")                               # plot data with black circle\n",
    "plt.plot(x,unp.nominal_values(best_fit_y),\"k-\")  # plot fit line with black line\n",
    "\n",
    "#### Create Confidence band upper and lower bounds\n",
    "sigma = 2\n",
    "\n",
    "# upper and lower bounds of uncertain kobs as float values\n",
    "fit_up = unp.nominal_values(best_fit_y) + unp.std_devs(best_fit_y) * sigma\n",
    "fit_dn = unp.nominal_values(best_fit_y) - unp.std_devs(best_fit_y) * sigma\n",
    "\n",
    "# make filled band\n",
    "plt.fill_between(x, fit_up, fit_dn, \n",
    "                   color=\"lightgray\", alpha=0.4, zorder = 0,\n",
    "                   linewidth = 0, label=\"confidence interval\")\n",
    "plt.xticks([0.0032,0.0033,0.0034])         # there were too many x labels\n",
    "plt.xlabel(r\"${1/T}$\")\n",
    "plt.ylabel(r\"$\\ln{k/T}$\")\n",
    "plt.savefig(\"plots/3A-08.pdf\")\n",
    "plt.show()                                       # show plot (and clear)\n",
    "#\n",
    "### Plot the residuals\n",
    "\n",
    "# difference between data and line-fit\n",
    "residuals = y - unp.nominal_values(best_fit_y)    \n",
    "plt.figure(figsize=size).set_figheight(1.5)         # set plot height to 1 inch\n",
    "plt.axhline(0, color='lightgray')                  # plot a horizontal line\n",
    "plt.plot(x,residuals,\"ko\")\n",
    "plt.xticks([0.0032,0.0033,0.0034])         # there were too many x labels\n",
    "plt.ylim(-.1,.1)\n",
    "\n",
    "plt.xlabel(r\"${1/T}$\")\n",
    "plt.ylabel(r\"residuals\")\n",
    "plt.savefig(\"plots/3A-09.pdf\")\n",
    "plt.show()\n",
    "\n",
    "\n",
    "print(x)"
   ]
  },
  {
   "cell_type": "markdown",
   "metadata": {},
   "source": [
    "### Band Calculated from Zero\n",
    "\n",
    "Here we plot the lever arm plot again but add the confidence band. This plot must be calculated using the slope and intercept. The intercept occurs at $x = 0$.  If $1/T$ is zero that means we are at infinite temperature. If I had used the uncertain $\\Delta H^\\ddagger$ and $\\Delta S^\\ddagger$ and temperature I would have had to use very high temperture values to approach, but never reach the origin of the $1/T$ $x$-axis. This plot emphasizes the effect of the lever arm well."
   ]
  },
  {
   "cell_type": "code",
   "execution_count": 307,
   "metadata": {
    "tags": [
     "hide-input"
    ]
   },
   "outputs": [
    {
     "name": "stdout",
     "output_type": "stream",
     "text": [
      "slope = -5560.07+/-249.08\n",
      "The true intercept is 15.37+/-0.82\n",
      "\n",
      "rsq = 0.994\n"
     ]
    },
    {
     "data": {
      "image/png": "[encoded data removed]",
      "text/plain": [
       "<Figure size 400x300 with 1 Axes>"
      ]
     },
     "metadata": {},
     "output_type": "display_data"
    }
   ],
   "source": [
    "slope_unc = un.ufloat(slope, slope_stderr)\n",
    "intercept_unc = un.ufloat(intercept, int_stderr)\n",
    "\n",
    "### calculate the true intercept \n",
    "intercept_true = intercept_unc - slope_unc * x_ave\n",
    "\n",
    "### print a report using the variables\n",
    "print(f\"slope = {slope:0.2f}+/-{slope_stderr:0.2f}\")  \n",
    "# print(f\"int = {intercept:0.2f}+/-{int_stderr:0.2f}\")  \n",
    "print(f\"The true intercept is {intercept_true:0.2f}\")\n",
    "print()\n",
    "print(f\"rsq = {rsq:0.3f}\")\n",
    "\n",
    "#### calculate y-values using best fit parameters\n",
    "\n",
    "# use 100 values between zero and max x for smoother plot\n",
    "x_0 = np.linspace(0,np.max(x),100)                \n",
    "best_fit_y = slope_unc * x_0 + intercept_true     # uncertain array of line fit\n",
    "\n",
    "### Plot data and line-fit\n",
    "plt.rcdefaults()\n",
    "plt.style.use(location_styles + \"tufte.mplstyle\")\n",
    "plt.figure(figsize=size)\n",
    "\n",
    "plt.plot(x,y,\"ko\")                                # plot data with black circle\n",
    "plt.plot(x_0,unp.nominal_values(best_fit_y),\"k-\") # plot fit line from zero\n",
    "\n",
    "#### Create Confidence band upper and lower bounds\n",
    "sigma = 2\n",
    "\n",
    "# upper and lower bounds of uncertain kobs as float values\n",
    "fit_up = unp.nominal_values(best_fit_y) + unp.std_devs(best_fit_y) * sigma\n",
    "fit_dn = unp.nominal_values(best_fit_y) - unp.std_devs(best_fit_y) * sigma\n",
    "\n",
    "# make filled band\n",
    "plt.fill_between(x_0, fit_up, fit_dn, \n",
    "                color=\"lightgray\", alpha=0.4, zorder = 0,\n",
    "                linewidth = 0, label=\"confidence interval\")\n",
    "plt.xlabel(r\"${1/T}$\")\n",
    "plt.ylabel(r\"$\\ln{k/T}$\")\n",
    "plt.savefig(\"plots/3A-10.pdf\")\n",
    "plt.show()                                       # show plot (and clear)\n",
    "\n"
   ]
  },
  {
   "cell_type": "code",
   "execution_count": null,
   "metadata": {},
   "outputs": [],
   "source": []
  }
 ],
 "metadata": {
  "kernelspec": {
   "display_name": "Python 3",
   "language": "python",
   "name": "python3"
  },
  "language_info": {
   "codemirror_mode": {
    "name": "ipython",
    "version": 3
   },
   "file_extension": ".py",
   "mimetype": "text/x-python",
   "name": "python",
   "nbconvert_exporter": "python",
   "pygments_lexer": "ipython3",
   "version": "3.11.7"
  }
 },
 "nbformat": 4,
 "nbformat_minor": 2
}
