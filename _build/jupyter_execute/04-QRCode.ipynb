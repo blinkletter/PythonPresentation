{
 "cells": [
  {
   "cell_type": "markdown",
   "metadata": {},
   "source": [
    "# Extra: QR Codes in Python\n",
    "\n",
    "QR codes are everywhere. It is just a graphical image that encodes text data. You can make a QR code to epress just about any string of text. In this case we will be encoding a URL for the presentation website.\n",
    "\n",
    "## Evil QR Codes\n",
    "\n",
    "There are many free websites that will create them for you. However, they create codes that direct your reader bthrough that website every time so that you and your readers can be tracked coming and going from the link in your QR code. There are paid services as well, but they are likely not any better when it comes to tracking you. \n",
    "\n",
    "## Free and Safe QR Codes\n",
    "\n",
    "The only way to be safe is to do it youself. We can use free open-source software to make a QR code. You can istall the `segno` python package using `pip` or `conda` as below\n",
    "\n",
    "`pip install segno`\n",
    "\n",
    "'conda install segno`\n",
    "\n",
    "The call and use the package as demostrated below. The example will use the URL for this website and create a png file for the QR code. You can delete all the options except the destination filename, the defaults are fine."
   ]
  },
  {
   "cell_type": "code",
   "execution_count": 30,
   "metadata": {},
   "outputs": [
    {
     "data": {
      "image/png": "[encoded data removed]",
      "text/plain": [
       "<IPython.core.display.Image object>"
      ]
     },
     "metadata": {},
     "output_type": "display_data"
    }
   ],
   "source": [
    "#!pip install segno        # remove comment to instal segno in Colab\n",
    "\n",
    "import segno\n",
    "from IPython.display import display, Image\n",
    "\n",
    "qrcode = segno.make_qr(\"https://blinkletter.github.io/PythonPresentation/start.html\")\n",
    "qrcode.save(\"qrcode.png\",\n",
    "    scale=10, border=3,\n",
    "    light=None, dark=\"black\", data_dark=\"#666666\", quiet_zone=None,  # color options\n",
    "    )\n",
    "\n",
    "display(Image(filename='qrcode.png'))"
   ]
  },
  {
   "cell_type": "code",
   "execution_count": null,
   "metadata": {},
   "outputs": [],
   "source": []
  }
 ],
 "metadata": {
  "kernelspec": {
   "display_name": "main",
   "language": "python",
   "name": "python3"
  },
  "language_info": {
   "codemirror_mode": {
    "name": "ipython",
    "version": 3
   },
   "file_extension": ".py",
   "mimetype": "text/x-python",
   "name": "python",
   "nbconvert_exporter": "python",
   "pygments_lexer": "ipython3",
   "version": "3.12.4"
  }
 },
 "nbformat": 4,
 "nbformat_minor": 2
}